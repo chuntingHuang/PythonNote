{
 "cells": [
  {
   "cell_type": "markdown",
   "metadata": {
    "collapsed": true
   },
   "source": [
    "# python String"
   ]
  },
  {
   "cell_type": "code",
   "execution_count": 6,
   "metadata": {
    "collapsed": true
   },
   "outputs": [],
   "source": [
    "myStr= \"hello world\"\n",
    "myStr1 = 'hello world'"
   ]
  },
  {
   "cell_type": "code",
   "execution_count": 8,
   "metadata": {
    "collapsed": false
   },
   "outputs": [
    {
     "data": {
      "text/plain": [
       "'h'"
      ]
     },
     "execution_count": 8,
     "metadata": {},
     "output_type": "execute_result"
    }
   ],
   "source": [
    "myStr[0]"
   ]
  },
  {
   "cell_type": "code",
   "execution_count": 9,
   "metadata": {
    "collapsed": false
   },
   "outputs": [
    {
     "data": {
      "text/plain": [
       "'he'"
      ]
     },
     "execution_count": 9,
     "metadata": {},
     "output_type": "execute_result"
    }
   ],
   "source": [
    "myStr[0:2]"
   ]
  },
  {
   "cell_type": "code",
   "execution_count": 10,
   "metadata": {
    "collapsed": true
   },
   "outputs": [],
   "source": [
    "a = 'hello'\n"
   ]
  },
  {
   "cell_type": "code",
   "execution_count": 11,
   "metadata": {
    "collapsed": false
   },
   "outputs": [
    {
     "data": {
      "text/plain": [
       "'hl'"
      ]
     },
     "execution_count": 11,
     "metadata": {},
     "output_type": "execute_result"
    }
   ],
   "source": [
    "a[0:4:2]"
   ]
  },
  {
   "cell_type": "code",
   "execution_count": 13,
   "metadata": {
    "collapsed": true
   },
   "outputs": [],
   "source": [
    "a='Qoo loves OOP'"
   ]
  },
  {
   "cell_type": "code",
   "execution_count": 14,
   "metadata": {
    "collapsed": false
   },
   "outputs": [
    {
     "data": {
      "text/plain": [
       "'Qoo-loves-OOP'"
      ]
     },
     "execution_count": 14,
     "metadata": {},
     "output_type": "execute_result"
    }
   ],
   "source": [
    "'-'.join(a.split())"
   ]
  },
  {
   "cell_type": "markdown",
   "metadata": {},
   "source": [
    "# python List"
   ]
  },
  {
   "cell_type": "code",
   "execution_count": 24,
   "metadata": {
    "collapsed": true
   },
   "outputs": [],
   "source": [
    "a=[5,6,7,8]"
   ]
  },
  {
   "cell_type": "code",
   "execution_count": 25,
   "metadata": {
    "collapsed": true
   },
   "outputs": [],
   "source": [
    "a.append(1)"
   ]
  },
  {
   "cell_type": "code",
   "execution_count": 27,
   "metadata": {
    "collapsed": false
   },
   "outputs": [
    {
     "name": "stdout",
     "output_type": "stream",
     "text": [
      "[5, 6, 7, 8, 1]\n"
     ]
    }
   ],
   "source": [
    "print(a)"
   ]
  },
  {
   "cell_type": "code",
   "execution_count": 28,
   "metadata": {
    "collapsed": false
   },
   "outputs": [
    {
     "data": {
      "text/plain": [
       "['a']"
      ]
     },
     "execution_count": 28,
     "metadata": {},
     "output_type": "execute_result"
    }
   ],
   "source": [
    "list('a')"
   ]
  },
  {
   "cell_type": "code",
   "execution_count": 29,
   "metadata": {
    "collapsed": true
   },
   "outputs": [],
   "source": [
    "hello= list('hello world')"
   ]
  },
  {
   "cell_type": "code",
   "execution_count": 31,
   "metadata": {
    "collapsed": false
   },
   "outputs": [
    {
     "name": "stdout",
     "output_type": "stream",
     "text": [
      "['h', 'e', 'l', 'l', 'o', ' ', 'w', 'o', 'r', 'l', 'd']\n"
     ]
    }
   ],
   "source": [
    "print (hello)"
   ]
  },
  {
   "cell_type": "markdown",
   "metadata": {},
   "source": [
    "# python File I/O\n",
    "\n",
    "Mini ETL exercise, let's build a proxy list for our web crawler...\n",
    "\n",
    "proxy website: https://www.us-proxy.org/"
   ]
  },
  {
   "cell_type": "code",
   "execution_count": 2,
   "metadata": {
    "collapsed": false
   },
   "outputs": [
    {
     "name": "stdout",
     "output_type": "stream",
     "text": [
      "'138.197.23.220\\t8080\\tUS\\tUnited States\\tanonymous\\tno\\tyes\\t6 seconds ago\\n164.58.168.2\\t8080\\tUS\\tUnited States\\tanonymous\\tno\\tyes\\t6 seconds ago\\n207.99.118.74\\t8080\\tUS\\tUnited States\\tanonymous\\tno\\tyes\\t6 seconds ago\\n35.167.230.243\\t8080\\tUS\\tUnited States\\tanonymous\\tno\\tno\\t6 seconds ago\\n45.79.219.25\\t3128\\tUS\\tUnited States\\tanonymous\\tno\\tyes\\t6 seconds ago\\n47.52.33.136\\t3128\\tUS\\tUnited States\\tanonymous\\tno\\tno\\t6 seconds ago\\n154.16.255.208\\t8080\\tUS\\tUnited States\\tanonymous\\tno\\tno\\t11 seconds ago\\n155.94.193.245\\t1080\\tUS\\tUnited States\\telite proxy\\tno\\tno\\t11 seconds ago\\n167.160.189.117\\t3128\\tUS\\tUnited States\\tanonymous\\tno\\tno\\t11 seconds ago\\n155.94.193.244\\t1080\\tUS\\tUnited States\\telite proxy\\tno\\tno\\t11 seconds ago\\n155.94.193.242\\t1080\\tUS\\tUnited States\\telite proxy\\tno\\tno\\t11 seconds ago\\n35.167.66.19\\t3128\\tUS\\tUnited States\\tanonymous\\tno\\tyes\\t1 minute ago\\n24.172.12.166\\t8080\\tUS\\tUnited States\\ttransparent\\tno\\tno\\t10 minutes ago\\n173.254.203.212\\t1080\\tUS\\tUnited States\\telite proxy\\tno\\tno\\t10 minutes ago\\n173.254.203.213\\t1080\\tUS\\tUnited States\\telite proxy\\tno\\tyes\\t10 minutes ago\\n159.203.179.86\\t31557\\tUS\\tUnited States\\telite proxy\\tno\\tyes\\t10 minutes ago\\n107.178.4.109\\t8080\\tUS\\tUnited States\\ttransparent\\tno\\tno\\t14 minutes ago\\n47.52.33.214\\t3128\\tUS\\tUnited States\\tanonymous\\tno\\tno\\t20 minutes ago\\n154.16.127.223\\t8080\\tUS\\tUnited States\\telite proxy\\tno\\tyes\\t30 minutes ago\\n74.84.131.34\\t80\\tUS\\tUnited States\\telite proxy\\tno\\tno\\t31 minutes ago'\n"
     ]
    }
   ],
   "source": [
    "#with:縮小版的try-finally. \n",
    "with open ('C:/Users/BIG DATA/Documents/proxy_list.txt') as proxy_file:\n",
    "    print(repr(proxy_file.read())) #repr:將每個空格\\t秀出"
   ]
  },
  {
   "cell_type": "code",
   "execution_count": 3,
   "metadata": {
    "collapsed": false
   },
   "outputs": [
    {
     "name": "stdout",
     "output_type": "stream",
     "text": [
      "138.197.23.220\t8080\tUS\tUnited States\tanonymous\tno\tyes\t6 seconds ago\n",
      "164.58.168.2\t8080\tUS\tUnited States\tanonymous\tno\tyes\t6 seconds ago\n",
      "207.99.118.74\t8080\tUS\tUnited States\tanonymous\tno\tyes\t6 seconds ago\n",
      "35.167.230.243\t8080\tUS\tUnited States\tanonymous\tno\tno\t6 seconds ago\n",
      "45.79.219.25\t3128\tUS\tUnited States\tanonymous\tno\tyes\t6 seconds ago\n",
      "47.52.33.136\t3128\tUS\tUnited States\tanonymous\tno\tno\t6 seconds ago\n",
      "154.16.255.208\t8080\tUS\tUnited States\tanonymous\tno\tno\t11 seconds ago\n",
      "155.94.193.245\t1080\tUS\tUnited States\telite proxy\tno\tno\t11 seconds ago\n",
      "167.160.189.117\t3128\tUS\tUnited States\tanonymous\tno\tno\t11 seconds ago\n",
      "155.94.193.244\t1080\tUS\tUnited States\telite proxy\tno\tno\t11 seconds ago\n",
      "155.94.193.242\t1080\tUS\tUnited States\telite proxy\tno\tno\t11 seconds ago\n",
      "35.167.66.19\t3128\tUS\tUnited States\tanonymous\tno\tyes\t1 minute ago\n",
      "24.172.12.166\t8080\tUS\tUnited States\ttransparent\tno\tno\t10 minutes ago\n",
      "173.254.203.212\t1080\tUS\tUnited States\telite proxy\tno\tno\t10 minutes ago\n",
      "173.254.203.213\t1080\tUS\tUnited States\telite proxy\tno\tyes\t10 minutes ago\n",
      "159.203.179.86\t31557\tUS\tUnited States\telite proxy\tno\tyes\t10 minutes ago\n",
      "107.178.4.109\t8080\tUS\tUnited States\ttransparent\tno\tno\t14 minutes ago\n",
      "47.52.33.214\t3128\tUS\tUnited States\tanonymous\tno\tno\t20 minutes ago\n",
      "154.16.127.223\t8080\tUS\tUnited States\telite proxy\tno\tyes\t30 minutes ago\n",
      "74.84.131.34\t80\tUS\tUnited States\telite proxy\tno\tno\t31 minutes ago\n"
     ]
    }
   ],
   "source": [
    "with open ('C:/Users/BIG DATA/Documents/proxy_list.txt') as proxy_file:\n",
    "    print(proxy_file.read()) #使用.read,將txt所有讀出"
   ]
  },
  {
   "cell_type": "code",
   "execution_count": 4,
   "metadata": {
    "collapsed": false
   },
   "outputs": [
    {
     "name": "stdout",
     "output_type": "stream",
     "text": [
      "['138.197.23.220\\t8080\\tUS\\tUnited States\\tanonymous\\tno\\tyes\\t6 seconds ago\\n', '164.58.168.2\\t8080\\tUS\\tUnited States\\tanonymous\\tno\\tyes\\t6 seconds ago\\n', '207.99.118.74\\t8080\\tUS\\tUnited States\\tanonymous\\tno\\tyes\\t6 seconds ago\\n', '35.167.230.243\\t8080\\tUS\\tUnited States\\tanonymous\\tno\\tno\\t6 seconds ago\\n', '45.79.219.25\\t3128\\tUS\\tUnited States\\tanonymous\\tno\\tyes\\t6 seconds ago\\n', '47.52.33.136\\t3128\\tUS\\tUnited States\\tanonymous\\tno\\tno\\t6 seconds ago\\n', '154.16.255.208\\t8080\\tUS\\tUnited States\\tanonymous\\tno\\tno\\t11 seconds ago\\n', '155.94.193.245\\t1080\\tUS\\tUnited States\\telite proxy\\tno\\tno\\t11 seconds ago\\n', '167.160.189.117\\t3128\\tUS\\tUnited States\\tanonymous\\tno\\tno\\t11 seconds ago\\n', '155.94.193.244\\t1080\\tUS\\tUnited States\\telite proxy\\tno\\tno\\t11 seconds ago\\n', '155.94.193.242\\t1080\\tUS\\tUnited States\\telite proxy\\tno\\tno\\t11 seconds ago\\n', '35.167.66.19\\t3128\\tUS\\tUnited States\\tanonymous\\tno\\tyes\\t1 minute ago\\n', '24.172.12.166\\t8080\\tUS\\tUnited States\\ttransparent\\tno\\tno\\t10 minutes ago\\n', '173.254.203.212\\t1080\\tUS\\tUnited States\\telite proxy\\tno\\tno\\t10 minutes ago\\n', '173.254.203.213\\t1080\\tUS\\tUnited States\\telite proxy\\tno\\tyes\\t10 minutes ago\\n', '159.203.179.86\\t31557\\tUS\\tUnited States\\telite proxy\\tno\\tyes\\t10 minutes ago\\n', '107.178.4.109\\t8080\\tUS\\tUnited States\\ttransparent\\tno\\tno\\t14 minutes ago\\n', '47.52.33.214\\t3128\\tUS\\tUnited States\\tanonymous\\tno\\tno\\t20 minutes ago\\n', '154.16.127.223\\t8080\\tUS\\tUnited States\\telite proxy\\tno\\tyes\\t30 minutes ago\\n', '74.84.131.34\\t80\\tUS\\tUnited States\\telite proxy\\tno\\tno\\t31 minutes ago']\n"
     ]
    }
   ],
   "source": [
    "with open ('C:/Users/BIG DATA/Documents/proxy_list.txt') as proxy_file:\n",
    "        print(proxy_file.readlines()) #readlines:將空格\\t換行\\n等秀出,並用,區隔"
   ]
  },
  {
   "cell_type": "code",
   "execution_count": 5,
   "metadata": {
    "collapsed": false
   },
   "outputs": [
    {
     "name": "stdout",
     "output_type": "stream",
     "text": [
      "['138.197.23.220', '8080', 'US', 'United States', 'anonymous', 'no', 'yes', '6 seconds ago\\n']\n",
      "['164.58.168.2', '8080', 'US', 'United States', 'anonymous', 'no', 'yes', '6 seconds ago\\n']\n",
      "['207.99.118.74', '8080', 'US', 'United States', 'anonymous', 'no', 'yes', '6 seconds ago\\n']\n",
      "['35.167.230.243', '8080', 'US', 'United States', 'anonymous', 'no', 'no', '6 seconds ago\\n']\n",
      "['45.79.219.25', '3128', 'US', 'United States', 'anonymous', 'no', 'yes', '6 seconds ago\\n']\n",
      "['47.52.33.136', '3128', 'US', 'United States', 'anonymous', 'no', 'no', '6 seconds ago\\n']\n",
      "['154.16.255.208', '8080', 'US', 'United States', 'anonymous', 'no', 'no', '11 seconds ago\\n']\n",
      "['155.94.193.245', '1080', 'US', 'United States', 'elite proxy', 'no', 'no', '11 seconds ago\\n']\n",
      "['167.160.189.117', '3128', 'US', 'United States', 'anonymous', 'no', 'no', '11 seconds ago\\n']\n",
      "['155.94.193.244', '1080', 'US', 'United States', 'elite proxy', 'no', 'no', '11 seconds ago\\n']\n",
      "['155.94.193.242', '1080', 'US', 'United States', 'elite proxy', 'no', 'no', '11 seconds ago\\n']\n",
      "['35.167.66.19', '3128', 'US', 'United States', 'anonymous', 'no', 'yes', '1 minute ago\\n']\n",
      "['24.172.12.166', '8080', 'US', 'United States', 'transparent', 'no', 'no', '10 minutes ago\\n']\n",
      "['173.254.203.212', '1080', 'US', 'United States', 'elite proxy', 'no', 'no', '10 minutes ago\\n']\n",
      "['173.254.203.213', '1080', 'US', 'United States', 'elite proxy', 'no', 'yes', '10 minutes ago\\n']\n",
      "['159.203.179.86', '31557', 'US', 'United States', 'elite proxy', 'no', 'yes', '10 minutes ago\\n']\n",
      "['107.178.4.109', '8080', 'US', 'United States', 'transparent', 'no', 'no', '14 minutes ago\\n']\n",
      "['47.52.33.214', '3128', 'US', 'United States', 'anonymous', 'no', 'no', '20 minutes ago\\n']\n",
      "['154.16.127.223', '8080', 'US', 'United States', 'elite proxy', 'no', 'yes', '30 minutes ago\\n']\n",
      "['74.84.131.34', '80', 'US', 'United States', 'elite proxy', 'no', 'no', '31 minutes ago']\n"
     ]
    }
   ],
   "source": [
    "with open ('C:/Users/BIG DATA/Documents/proxy_list.txt') as proxy_file:\n",
    "    for line in proxy_file:\n",
    "        print(line.split('\\t')) #從/t(空格鍵)切割"
   ]
  },
  {
   "cell_type": "code",
   "execution_count": 7,
   "metadata": {
    "collapsed": false
   },
   "outputs": [
    {
     "name": "stdout",
     "output_type": "stream",
     "text": [
      "[{'ip': '138.197.23.220', 'prot': '8080'}, {'ip': '164.58.168.2', 'prot': '8080'}, {'ip': '207.99.118.74', 'prot': '8080'}, {'ip': '35.167.230.243', 'prot': '8080'}, {'ip': '45.79.219.25', 'prot': '3128'}, {'ip': '47.52.33.136', 'prot': '3128'}, {'ip': '154.16.255.208', 'prot': '8080'}, {'ip': '155.94.193.245', 'prot': '1080'}, {'ip': '167.160.189.117', 'prot': '3128'}, {'ip': '155.94.193.244', 'prot': '1080'}, {'ip': '155.94.193.242', 'prot': '1080'}, {'ip': '35.167.66.19', 'prot': '3128'}, {'ip': '24.172.12.166', 'prot': '8080'}, {'ip': '173.254.203.212', 'prot': '1080'}, {'ip': '173.254.203.213', 'prot': '1080'}, {'ip': '159.203.179.86', 'prot': '31557'}, {'ip': '107.178.4.109', 'prot': '8080'}, {'ip': '47.52.33.214', 'prot': '3128'}, {'ip': '154.16.127.223', 'prot': '8080'}, {'ip': '74.84.131.34', 'prot': '80'}]\n"
     ]
    }
   ],
   "source": [
    "#用python函式做出json格式\n",
    "with open ('C:/Users/BIG DATA/Documents/proxy_list.txt') as proxy_file:\n",
    "    proxy_list= []\n",
    "    for line in proxy_file:\n",
    "        proxy_dict = {}\n",
    "        row = line.split('\\t')\n",
    "        proxy_dict['ip'] = row [0]\n",
    "        proxy_dict['prot'] = row [1]\n",
    "        proxy_list.append(proxy_dict)\n",
    "#印出到list(proxy_list)中 \n",
    "print(proxy_list) "
   ]
  },
  {
   "cell_type": "code",
   "execution_count": 9,
   "metadata": {
    "collapsed": false
   },
   "outputs": [
    {
     "name": "stdout",
     "output_type": "stream",
     "text": [
      "[{\"ip\": \"138.197.23.220\", \"prot\": \"8080\"}, {\"ip\": \"164.58.168.2\", \"prot\": \"8080\"}, {\"ip\": \"207.99.118.74\", \"prot\": \"8080\"}, {\"ip\": \"35.167.230.243\", \"prot\": \"8080\"}, {\"ip\": \"45.79.219.25\", \"prot\": \"3128\"}, {\"ip\": \"47.52.33.136\", \"prot\": \"3128\"}, {\"ip\": \"154.16.255.208\", \"prot\": \"8080\"}, {\"ip\": \"155.94.193.245\", \"prot\": \"1080\"}, {\"ip\": \"167.160.189.117\", \"prot\": \"3128\"}, {\"ip\": \"155.94.193.244\", \"prot\": \"1080\"}, {\"ip\": \"155.94.193.242\", \"prot\": \"1080\"}, {\"ip\": \"35.167.66.19\", \"prot\": \"3128\"}, {\"ip\": \"24.172.12.166\", \"prot\": \"8080\"}, {\"ip\": \"173.254.203.212\", \"prot\": \"1080\"}, {\"ip\": \"173.254.203.213\", \"prot\": \"1080\"}, {\"ip\": \"159.203.179.86\", \"prot\": \"31557\"}, {\"ip\": \"107.178.4.109\", \"prot\": \"8080\"}, {\"ip\": \"47.52.33.214\", \"prot\": \"3128\"}, {\"ip\": \"154.16.127.223\", \"prot\": \"8080\"}, {\"ip\": \"74.84.131.34\", \"prot\": \"80\"}]\n"
     ]
    }
   ],
   "source": [
    "import json #使用json套件\n",
    "\n",
    "with open ('C:/Users/BIG DATA/Documents/proxy_list.txt') as proxy_file:\n",
    "    proxy_list= []\n",
    "    for line in proxy_file:\n",
    "        proxy_dict = {}\n",
    "        row = line.split('\\t')\n",
    "        proxy_dict['ip'] = row [0]\n",
    "        proxy_dict['prot'] = row [1]\n",
    "        proxy_list.append(proxy_dict)\n",
    "#建立一個json File\n",
    "proxy_json = json.dumps(proxy_list) \n",
    "print(proxy_json)\n",
    "#將資料匯入json File\n",
    "with open('proxy_list.json', 'w') as f:\n",
    "    f.write(proxy_json) "
   ]
  },
  {
   "cell_type": "code",
   "execution_count": 10,
   "metadata": {
    "collapsed": false
   },
   "outputs": [
    {
     "name": "stdout",
     "output_type": "stream",
     "text": [
      "Collecting jieba\n",
      "  Downloading jieba-0.38.zip (7.4MB)\n",
      "Building wheels for collected packages: jieba\n",
      "  Running setup.py bdist_wheel for jieba: started\n",
      "  Running setup.py bdist_wheel for jieba: finished with status 'done'\n",
      "  Stored in directory: C:\\Users\\BIG DATA\\AppData\\Local\\pip\\Cache\\wheels\\fd\\8c\\07\\e495d158d91e11f50c829520f77d20d1f408f18a13cdb15d02\n",
      "Successfully built jieba\n",
      "Installing collected packages: jieba\n",
      "Successfully installed jieba-0.38\n"
     ]
    }
   ],
   "source": [
    "!pip install jieba #匯入jieba斷詞"
   ]
  },
  {
   "cell_type": "code",
   "execution_count": null,
   "metadata": {
    "collapsed": true
   },
   "outputs": [],
   "source": []
  }
 ],
 "metadata": {
  "kernelspec": {
   "display_name": "Python 3",
   "language": "python",
   "name": "python3"
  },
  "language_info": {
   "codemirror_mode": {
    "name": "ipython",
    "version": 3
   },
   "file_extension": ".py",
   "mimetype": "text/x-python",
   "name": "python",
   "nbconvert_exporter": "python",
   "pygments_lexer": "ipython3",
   "version": "3.6.0"
  }
 },
 "nbformat": 4,
 "nbformat_minor": 2
}
